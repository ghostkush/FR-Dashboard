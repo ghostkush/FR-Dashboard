{
 "cells": [
  {
   "cell_type": "code",
   "execution_count": 1,
   "id": "686d0a78",
   "metadata": {},
   "outputs": [],
   "source": [
    "import pandas as pd\n",
    "import matplotlib.pyplot as plt\n",
    "import yfinance as yf\n",
    "import json\n",
    "from ipywidgets import Dropdown"
   ]
  },
  {
   "cell_type": "code",
   "execution_count": 2,
   "id": "4be341bb",
   "metadata": {},
   "outputs": [
    {
     "data": {
      "application/vnd.jupyter.widget-view+json": {
       "model_id": "00dae996f4d14199bd82f5e876762d26",
       "version_major": 2,
       "version_minor": 0
      },
      "text/plain": [
       "Dropdown(description='Company:', options=('MICROSOFT CORP', 'NVIDIA CORP', 'Apple Inc.', 'AMAZON COM INC', 'Al…"
      ]
     },
     "execution_count": 2,
     "metadata": {},
     "output_type": "execute_result"
    }
   ],
   "source": [
    "\n",
    "# Load company names from JSON file\n",
    "with open('company_tickers.json', 'r') as file:\n",
    "    company_data = json.load(file)\n",
    "\n",
    "company_names = [company['title'] for company in company_data.values()]\n",
    "\n",
    "\n",
    "# Create dropdown widget\n",
    "dropdown = Dropdown(\n",
    "    options=company_names,\n",
    "    description='Company:',\n",
    "    value=company_names[0]  # Default value\n",
    ")\n",
    "years_list = [2021, 2022, 2023, 2024]\n",
    "\n",
    "year_dropdown = Dropdown(\n",
    "    options=years_list,\n",
    "    description='Year:',\n",
    "    value=years_list[-1]  # Default value\n",
    ")\n",
    "\n",
    "dropdown"
   ]
  },
  {
   "cell_type": "code",
   "execution_count": 3,
   "id": "cc86db47",
   "metadata": {},
   "outputs": [
    {
     "data": {
      "application/vnd.jupyter.widget-view+json": {
       "model_id": "78282741e8884120b360c3f143e2a701",
       "version_major": 2,
       "version_minor": 0
      },
      "text/plain": [
       "Dropdown(description='Year:', index=3, options=(2021, 2022, 2023, 2024), value=2024)"
      ]
     },
     "execution_count": 3,
     "metadata": {},
     "output_type": "execute_result"
    }
   ],
   "source": [
    "year_dropdown"
   ]
  },
  {
   "cell_type": "code",
   "execution_count": 4,
   "id": "8072dc8f",
   "metadata": {},
   "outputs": [],
   "source": [
    "year = year_dropdown.value\n",
    "temp = dropdown.value\n",
    "get_ticker = [company['ticker'] for company in company_data.values() if company['title'] == temp][0]\n",
    "income_statement = yf.Ticker(get_ticker).financials.filter(like=str(year))\n",
    "balance_sheet = yf.Ticker(get_ticker).balance_sheet.filter(like=str(year))\n",
    "\n",
    "#export to excel\n",
    "# temp.to_excel(f\"{company['ticker']}_income_statement.xlsx\")\n",
    "#balance_sheet.to_excel(f\"{company['ticker']}_balance_sheet.xlsx\")"
   ]
  },
  {
   "cell_type": "code",
   "execution_count": 5,
   "id": "528551ae",
   "metadata": {},
   "outputs": [
    {
     "name": "stdout",
     "output_type": "stream",
     "text": [
      "<class 'pandas.core.frame.DataFrame'>\n",
      "Index: 47 entries, Tax Effect Of Unusual Items to Operating Revenue\n",
      "Data columns (total 1 columns):\n",
      " #   Column               Non-Null Count  Dtype \n",
      "---  ------               --------------  ----- \n",
      " 0   2024-06-30 00:00:00  47 non-null     object\n",
      "dtypes: object(1)\n",
      "memory usage: 752.0+ bytes\n"
     ]
    }
   ],
   "source": [
    "income_statement.info()"
   ]
  },
  {
   "cell_type": "code",
   "execution_count": 6,
   "id": "d1881a7d",
   "metadata": {},
   "outputs": [
    {
     "name": "stdout",
     "output_type": "stream",
     "text": [
      "                                                        2024-06-30\n",
      "Tax Effect Of Unusual Items                            -99918000.0\n",
      "Tax Rate For Calcs                                           0.182\n",
      "Normalized EBITDA                                   133558000000.0\n",
      "Total Unusual Items                                   -549000000.0\n",
      "Total Unusual Items Excluding Goodwill                -549000000.0\n",
      "Net Income From Continuing Operation Net Minori...   88136000000.0\n",
      "Reconciled Depreciation                              22287000000.0\n",
      "Reconciled Cost Of Revenue                           74114000000.0\n",
      "EBITDA                                              133009000000.0\n",
      "EBIT                                                110722000000.0\n",
      "Net Interest Income                                    222000000.0\n",
      "Interest Expense                                      2935000000.0\n",
      "Interest Income                                       3157000000.0\n",
      "Normalized Income                                    88585082000.0\n",
      "Net Income From Continuing And Discontinued Ope...   88136000000.0\n",
      "Total Expenses                                      135689000000.0\n",
      "Total Operating Income As Reported                  109433000000.0\n",
      "Diluted Average Shares                                7469000000.0\n",
      "Basic Average Shares                                  7431000000.0\n",
      "Diluted EPS                                                   11.8\n",
      "Basic EPS                                                    11.86\n",
      "Diluted NI Availto Com Stockholders                  88136000000.0\n",
      "Net Income Common Stockholders                       88136000000.0\n",
      "Net Income                                           88136000000.0\n",
      "Net Income Including Noncontrolling Interests        88136000000.0\n",
      "Net Income Continuous Operations                     88136000000.0\n",
      "Tax Provision                                        19651000000.0\n",
      "Pretax Income                                       107787000000.0\n",
      "Other Income Expense                                 -1868000000.0\n",
      "Other Non Operating Income Expenses                  -1319000000.0\n",
      "Special Income Charges                                -206000000.0\n",
      "Write Off                                              206000000.0\n",
      "Gain On Sale Of Security                              -343000000.0\n",
      "Net Non Operating Interest Income Expense              222000000.0\n",
      "Interest Expense Non Operating                        2935000000.0\n",
      "Interest Income Non Operating                         3157000000.0\n",
      "Operating Income                                    109433000000.0\n",
      "Operating Expense                                    61575000000.0\n",
      "Research And Development                             29510000000.0\n",
      "Selling General And Administration                   32065000000.0\n",
      "Selling And Marketing Expense                        24456000000.0\n",
      "General And Administrative Expense                    7609000000.0\n",
      "Other Gand A                                          7609000000.0\n",
      "Gross Profit                                        171008000000.0\n",
      "Cost Of Revenue                                      74114000000.0\n",
      "Total Revenue                                       245122000000.0\n",
      "Operating Revenue                                   245122000000.0\n"
     ]
    }
   ],
   "source": [
    "print(income_statement)"
   ]
  },
  {
   "cell_type": "code",
   "execution_count": 12,
   "id": "c581d976",
   "metadata": {},
   "outputs": [
    {
     "name": "stdout",
     "output_type": "stream",
     "text": [
      "                                                      2024-06-30\n",
      "Ordinary Shares Number                              7434138859.0\n",
      "Share Issued                                        7434138859.0\n",
      "Net Debt                                           33315000000.0\n",
      "Total Debt                                         67127000000.0\n",
      "Tangible Book Value                               121660000000.0\n",
      "...                                                          ...\n",
      "Cash Cash Equivalents And Short Term Investments   75531000000.0\n",
      "Other Short Term Investments                       57216000000.0\n",
      "Cash And Cash Equivalents                          18315000000.0\n",
      "Cash Equivalents                                    6744000000.0\n",
      "Cash Financial                                     11571000000.0\n",
      "\n",
      "[78 rows x 1 columns]\n"
     ]
    }
   ],
   "source": [
    "print(balance_sheet)"
   ]
  },
  {
   "cell_type": "code",
   "execution_count": 8,
   "id": "1d06d245",
   "metadata": {},
   "outputs": [
    {
     "name": "stdout",
     "output_type": "stream",
     "text": [
      "Gross Profit Margin: 69.76%\n"
     ]
    }
   ],
   "source": [
    "try:\n",
    "    ratio_1 = (income_statement.loc['Total Revenue'] - income_statement.loc['Cost Of Revenue'])/ income_statement.loc['Total Revenue']\n",
    "    print(f\"Gross Profit Margin: {ratio_1.iloc[0] * 100:.2f}%\")\n",
    "except KeyError:\n",
    "    print(\"Gross Profit Margin: Data not available for this year.\")"
   ]
  },
  {
   "cell_type": "code",
   "execution_count": 9,
   "id": "8cc17077",
   "metadata": {},
   "outputs": [
    {
     "name": "stdout",
     "output_type": "stream",
     "text": [
      "Operating Profit Margin: 44.64%\n"
     ]
    }
   ],
   "source": [
    "try:\n",
    "    ratio_2 = (income_statement.loc[\"Operating Income\"]/ income_statement.loc['Total Revenue'])\n",
    "    print(f\"Operating Profit Margin: {ratio_2.iloc[0] * 100:.2f}%\")\n",
    "except KeyError:\n",
    "    print(\"Operating Profit Margin: Data not available for this year.\")"
   ]
  }
 ],
 "metadata": {
  "kernelspec": {
   "display_name": ".venv",
   "language": "python",
   "name": "python3"
  },
  "language_info": {
   "codemirror_mode": {
    "name": "ipython",
    "version": 3
   },
   "file_extension": ".py",
   "mimetype": "text/x-python",
   "name": "python",
   "nbconvert_exporter": "python",
   "pygments_lexer": "ipython3",
   "version": "3.13.2"
  }
 },
 "nbformat": 4,
 "nbformat_minor": 5
}
